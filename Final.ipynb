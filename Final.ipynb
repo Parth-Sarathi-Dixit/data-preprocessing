{
 "cells": [
  {
   "cell_type": "code",
   "execution_count": null,
   "id": "c264e905",
   "metadata": {},
   "outputs": [],
   "source": []
  },
  {
   "cell_type": "code",
   "execution_count": 957,
   "id": "934fca2b",
   "metadata": {},
   "outputs": [],
   "source": [
    "import numpy as np\n",
    "import pandas as pd\n",
    "import matplotlib.pyplot as plt\n",
    "import seaborn as sns\n",
    "from sklearn.model_selection import train_test_split\n",
    "from sklearn.ensemble import RandomForestRegressor\n",
    "from sklearn.linear_model import LinearRegression",
    
   ]
  },
  {
   "cell_type": "code",
   "execution_count": 958,
   "id": "57544b7b",
   "metadata": {},
   "outputs": [],
   "source": [
    "df = pd.read_csv('FinalData.csv')                       "
   ]
  },
  {
   "cell_type": "code",
   "execution_count": 959,
   "id": "f539f901",
   "metadata": {},
   "outputs": [
    {
     "data": {
      "text/html": [
       "<div>\n",
       "<style scoped>\n",
       "    .dataframe tbody tr th:only-of-type {\n",
       "        vertical-align: middle;\n",
       "    }\n",
       "\n",
       "    .dataframe tbody tr th {\n",
       "        vertical-align: top;\n",
       "    }\n",
       "\n",
       "    .dataframe thead th {\n",
       "        text-align: right;\n",
       "    }\n",
       "</style>\n",
       "<table border=\"1\" class=\"dataframe\">\n",
       "  <thead>\n",
       "    <tr style=\"text-align: right;\">\n",
       "      <th></th>\n",
       "      <th>Unnamed: 0</th>\n",
       "      <th>Name</th>\n",
       "      <th>Price</th>\n",
       "      <th>Model Name</th>\n",
       "      <th>Color</th>\n",
       "      <th>SIM Type</th>\n",
       "      <th>Touchscreen</th>\n",
       "      <th>Display Size</th>\n",
       "      <th>Resolution</th>\n",
       "      <th>Operating System</th>\n",
       "      <th>...</th>\n",
       "      <th>Audio Jack</th>\n",
       "      <th>GPS Support</th>\n",
       "      <th>Battery Capacity</th>\n",
       "      <th>Weight</th>\n",
       "      <th>Domestic Warranty</th>\n",
       "      <th>Product Rating</th>\n",
       "      <th>Camera Rating</th>\n",
       "      <th>Battery Rating</th>\n",
       "      <th>Display Rating</th>\n",
       "      <th>Design Rating</th>\n",
       "    </tr>\n",
       "  </thead>\n",
       "  <tbody>\n",
       "    <tr>\n",
       "      <th>0</th>\n",
       "      <td>0</td>\n",
       "      <td>SAMSUNG Galaxy F13 (Nightsky Green, 64 GB)  (4...</td>\n",
       "      <td>₹9,799</td>\n",
       "      <td>Galaxy F13</td>\n",
       "      <td>Nightsky Green</td>\n",
       "      <td>Dual Sim</td>\n",
       "      <td>Yes</td>\n",
       "      <td>16.76 cm (6.6 inch)</td>\n",
       "      <td>2408 x 1080 Pixels</td>\n",
       "      <td>Android 12</td>\n",
       "      <td>...</td>\n",
       "      <td>3.5mm</td>\n",
       "      <td>Yes</td>\n",
       "      <td>6000 mAh</td>\n",
       "      <td>207 g</td>\n",
       "      <td>1 Year</td>\n",
       "      <td>4.4</td>\n",
       "      <td>3.7</td>\n",
       "      <td>4.2</td>\n",
       "      <td>4.0</td>\n",
       "      <td>4.0</td>\n",
       "    </tr>\n",
       "    <tr>\n",
       "      <th>1</th>\n",
       "      <td>1</td>\n",
       "      <td>SAMSUNG Galaxy F13 (Sunrise Copper, 64 GB)  (4...</td>\n",
       "      <td>₹9,799</td>\n",
       "      <td>Galaxy F13</td>\n",
       "      <td>Sunrise Copper</td>\n",
       "      <td>Dual Sim</td>\n",
       "      <td>Yes</td>\n",
       "      <td>16.76 cm (6.6 inch)</td>\n",
       "      <td>2408 x 1080 Pixels</td>\n",
       "      <td>Android 12</td>\n",
       "      <td>...</td>\n",
       "      <td>3.5mm</td>\n",
       "      <td>Yes</td>\n",
       "      <td>6000 mAh</td>\n",
       "      <td>207 g</td>\n",
       "      <td>1 Year</td>\n",
       "      <td>4.4</td>\n",
       "      <td>3.7</td>\n",
       "      <td>4.2</td>\n",
       "      <td>4.0</td>\n",
       "      <td>4.0</td>\n",
       "    </tr>\n",
       "    <tr>\n",
       "      <th>2</th>\n",
       "      <td>2</td>\n",
       "      <td>SAMSUNG Galaxy F13 (Waterfall Blue, 64 GB)  (4...</td>\n",
       "      <td>₹9,799</td>\n",
       "      <td>Galaxy F13</td>\n",
       "      <td>Waterfall Blue</td>\n",
       "      <td>Dual Sim</td>\n",
       "      <td>Yes</td>\n",
       "      <td>16.76 cm (6.6 inch)</td>\n",
       "      <td>2408 x 1080 Pixels</td>\n",
       "      <td>Android 12</td>\n",
       "      <td>...</td>\n",
       "      <td>3.5mm</td>\n",
       "      <td>Yes</td>\n",
       "      <td>6000 mAh</td>\n",
       "      <td>207 g</td>\n",
       "      <td>1 Year</td>\n",
       "      <td>4.4</td>\n",
       "      <td>3.7</td>\n",
       "      <td>4.2</td>\n",
       "      <td>4.0</td>\n",
       "      <td>4.0</td>\n",
       "    </tr>\n",
       "    <tr>\n",
       "      <th>3</th>\n",
       "      <td>3</td>\n",
       "      <td>REDMI 10 (Pacific Blue, 64 GB)  (4 GB RAM)</td>\n",
       "      <td>₹9,999</td>\n",
       "      <td>10</td>\n",
       "      <td>Pacific Blue</td>\n",
       "      <td>Dual Sim</td>\n",
       "      <td>Yes</td>\n",
       "      <td>17.02 cm (6.7 inch)</td>\n",
       "      <td>1650 x 720 Pixels</td>\n",
       "      <td>Android 11</td>\n",
       "      <td>...</td>\n",
       "      <td>3.5mm</td>\n",
       "      <td>Yes</td>\n",
       "      <td>6000 mAh</td>\n",
       "      <td>203 g</td>\n",
       "      <td>1 Year</td>\n",
       "      <td>4.3</td>\n",
       "      <td>3.6</td>\n",
       "      <td>4.1</td>\n",
       "      <td>3.9</td>\n",
       "      <td>3.9</td>\n",
       "    </tr>\n",
       "    <tr>\n",
       "      <th>4</th>\n",
       "      <td>4</td>\n",
       "      <td>APPLE iPhone 13 (Starlight, 128 GB)</td>\n",
       "      <td>₹58,999</td>\n",
       "      <td>iPhone 13</td>\n",
       "      <td>Starlight</td>\n",
       "      <td>Dual Sim</td>\n",
       "      <td>Yes</td>\n",
       "      <td>15.49 cm (6.1 inch)</td>\n",
       "      <td>2532 x 1170 Pixels</td>\n",
       "      <td>iOS 15</td>\n",
       "      <td>...</td>\n",
       "      <td>3.5mm</td>\n",
       "      <td>Yes</td>\n",
       "      <td>6000 mAh</td>\n",
       "      <td>203 g</td>\n",
       "      <td>1 Year</td>\n",
       "      <td>4.7</td>\n",
       "      <td>4.6</td>\n",
       "      <td>4.4</td>\n",
       "      <td>4.7</td>\n",
       "      <td>4.6</td>\n",
       "    </tr>\n",
       "  </tbody>\n",
       "</table>\n",
       "<p>5 rows × 32 columns</p>\n",
       "</div>"
      ],
      "text/plain": [
       "   Unnamed: 0                                               Name    Price  \\\n",
       "0           0  SAMSUNG Galaxy F13 (Nightsky Green, 64 GB)  (4...   ₹9,799   \n",
       "1           1  SAMSUNG Galaxy F13 (Sunrise Copper, 64 GB)  (4...   ₹9,799   \n",
       "2           2  SAMSUNG Galaxy F13 (Waterfall Blue, 64 GB)  (4...   ₹9,799   \n",
       "3           3         REDMI 10 (Pacific Blue, 64 GB)  (4 GB RAM)   ₹9,999   \n",
       "4           4                APPLE iPhone 13 (Starlight, 128 GB)  ₹58,999   \n",
       "\n",
       "   Model Name           Color  SIM Type Touchscreen         Display Size  \\\n",
       "0  Galaxy F13  Nightsky Green  Dual Sim         Yes  16.76 cm (6.6 inch)   \n",
       "1  Galaxy F13  Sunrise Copper  Dual Sim         Yes  16.76 cm (6.6 inch)   \n",
       "2  Galaxy F13  Waterfall Blue  Dual Sim         Yes  16.76 cm (6.6 inch)   \n",
       "3          10    Pacific Blue  Dual Sim         Yes  17.02 cm (6.7 inch)   \n",
       "4   iPhone 13       Starlight  Dual Sim         Yes  15.49 cm (6.1 inch)   \n",
       "\n",
       "           Resolution Operating System  ... Audio Jack GPS Support  \\\n",
       "0  2408 x 1080 Pixels       Android 12  ...      3.5mm         Yes   \n",
       "1  2408 x 1080 Pixels       Android 12  ...      3.5mm         Yes   \n",
       "2  2408 x 1080 Pixels       Android 12  ...      3.5mm         Yes   \n",
       "3   1650 x 720 Pixels       Android 11  ...      3.5mm         Yes   \n",
       "4  2532 x 1170 Pixels           iOS 15  ...      3.5mm         Yes   \n",
       "\n",
       "  Battery Capacity Weight Domestic Warranty Product Rating Camera Rating  \\\n",
       "0         6000 mAh  207 g            1 Year            4.4           3.7   \n",
       "1         6000 mAh  207 g            1 Year            4.4           3.7   \n",
       "2         6000 mAh  207 g            1 Year            4.4           3.7   \n",
       "3         6000 mAh  203 g            1 Year            4.3           3.6   \n",
       "4         6000 mAh  203 g            1 Year            4.7           4.6   \n",
       "\n",
       "  Battery Rating Display Rating Design Rating  \n",
       "0            4.2            4.0           4.0  \n",
       "1            4.2            4.0           4.0  \n",
       "2            4.2            4.0           4.0  \n",
       "3            4.1            3.9           3.9  \n",
       "4            4.4            4.7           4.6  \n",
       "\n",
       "[5 rows x 32 columns]"
      ]
     },
     "execution_count": 959,
     "metadata": {},
     "output_type": "execute_result"
    }
   ],
   "source": [
    "df.head()"
   ]
  },
  {
   "cell_type": "code",
   "execution_count": 960,
   "id": "1607da04",
   "metadata": {},
   "outputs": [],
   "source": [
    "df.drop(['Unnamed: 0','Name','Color'],axis=1,inplace=True)"
   ]
  },
  {
   "cell_type": "code",
   "execution_count": 961,
   "id": "5d50d0bf",
   "metadata": {},
   "outputs": [
    {
     "data": {
      "text/plain": [
       "Price                          0\n",
       "Model Name                     1\n",
       "SIM Type                       1\n",
       "Touchscreen                    1\n",
       "Display Size                   1\n",
       "Resolution                     1\n",
       "Operating System               1\n",
       "Processor Core                 2\n",
       "Primary Clock Speed            2\n",
       "Internal Storage               3\n",
       "RAM                            1\n",
       "Primary Camera Available       2\n",
       "Primary Camera                 1\n",
       "Secondary Camera Available     2\n",
       "Secondary Camera               2\n",
       "Full HD Recording              3\n",
       "Network Type                   1\n",
       "Bluetooth Support             25\n",
       "Wi-Fi                          6\n",
       "Audio Jack                    27\n",
       "GPS Support                    2\n",
       "Battery Capacity               1\n",
       "Weight                         2\n",
       "Domestic Warranty             25\n",
       "Product Rating                 0\n",
       "Camera Rating                  0\n",
       "Battery Rating                 0\n",
       "Display Rating                 0\n",
       "Design Rating                  0\n",
       "dtype: int64"
      ]
     },
     "execution_count": 961,
     "metadata": {},
     "output_type": "execute_result"
    }
   ],
   "source": [
    "df.isnull().sum()"
   ]
  },
  {
   "cell_type": "code",
   "execution_count": 962,
   "id": "81eed18f",
   "metadata": {},
   "outputs": [],
   "source": [
    "df = df.dropna(how='any')"
   ]
  },
  {
   "cell_type": "code",
   "execution_count": 963,
   "id": "043334bf",
   "metadata": {},
   "outputs": [
    {
     "data": {
      "text/plain": [
       "(192, 29)"
      ]
     },
     "execution_count": 963,
     "metadata": {},
     "output_type": "execute_result"
    }
   ],
   "source": [
    "df.shape"
   ]
  },
  {
   "cell_type": "code",
   "execution_count": 964,
   "id": "b278fc18",
   "metadata": {},
   "outputs": [],
   "source": [
    "df['Display Size'] = df['Display Size'].str.split(\" cm\").str[0].astype(float)\n",
    "df['Primary Clock Speed'] = df['Primary Clock Speed'].str.replace(\"GHz\",\"* 1000\")\n",
    "df['Primary Clock Speed'] = df['Primary Clock Speed'].str.replace(\" MHz\",\"\").map(eval)\n",
    "df['Secondary Camera'] = df['Secondary Camera'].str.replace(\"MP Front Camera\",\"\").astype(float)\n",
    "df['Internal Storage'] = df['Internal Storage'].str.replace(\"GB\",\"* 1024\").str.replace(\" MB\",\"\").map(eval)\n",
    "df['Internal Storage'] = df['Internal Storage'].astype(float)\n",
    "df['Price'] = df['Price'].str.replace(\"₹\",\"\").str.replace(\",\",\"\").astype(float)\n",
    "df['Weight'] = df['Weight'].str.replace(' g', '').astype(float)\n",
    "df['Battery Capacity'] = df['Battery Capacity'].str.replace(' mAh', '')\n",
    "df['Battery Capacity'] = df['Battery Capacity'].str.replace(' mah', '')\n",
    "df['Battery Capacity'] = df['Battery Capacity'].astype(float)\n",
    "df['Domestic Warranty'] = df['Domestic Warranty'].str.replace(' year', '')\n",
    "df['Domestic Warranty'] = df['Domestic Warranty'].str.replace(' Year', '')\n",
    "df['Domestic Warranty'] = df['Domestic Warranty'].str.replace('12 Months','1')\n",
    "df['Domestic Warranty'] = df['Domestic Warranty'].astype(float)\n",
    "df['Audio Jack'] = df['Audio Jack'].str.lower().replace(' mm', '')\n",
    "df['Audio Jack'] = df['Audio Jack'].str.replace('mm', '')\n",
    "df['Audio Jack'] = df['Audio Jack'].str.replace('yes', '3.5')\n",
    "df['Audio Jack'] = df['Audio Jack'].astype(float)\n",
    "df['RAM'] = df['RAM'].str.replace(\"GB\",\"* 1024\").str.replace(\" MB\",\"\").map(eval)\n",
    "df['RAM'] = df['RAM'].astype(float)/1024"
   ]
  },
  {
   "cell_type": "code",
   "execution_count": 965,
   "id": "5bc831f7",
   "metadata": {},
   "outputs": [
    {
     "data": {
      "text/plain": [
       "array(['Dual Sim', 'Single Sim', 'Dual Sim(Nano + eSIM)'], dtype=object)"
      ]
     },
     "execution_count": 965,
     "metadata": {},
     "output_type": "execute_result"
    }
   ],
   "source": [
    "df['SIM Type'].unique()"
   ]
  },
  {
   "cell_type": "code",
   "execution_count": 967,
   "id": "42fe345d",
   "metadata": {},
   "outputs": [
    {
     "data": {
      "text/plain": [
       "array(['Yes', 'No'], dtype=object)"
      ]
     },
     "execution_count": 967,
     "metadata": {},
     "output_type": "execute_result"
    }
   ],
   "source": [
    "df['Touchscreen'].unique()"
   ]
  },
  {
   "cell_type": "code",
   "execution_count": 968,
   "id": "5dcd5f1d",
   "metadata": {},
   "outputs": [],
   "source": [
    "yes_no_encoding = {\n",
    "    'Yes':1,\n",
    "    'No':0,\n",
    "}\n",
    "df['Touchscreen'] = df['Touchscreen'].map(lambda x: yes_no_encoding[x])\n",
    "df['GPS Support'] = df['GPS Support'].map(lambda x: yes_no_encoding[x])\n",
    "df['Secondary Camera Available'] = df['Primary Camera Available'].map(lambda x: yes_no_encoding[x])\n",
    "df['Primary Camera Available'] = df['Primary Camera Available'].map(lambda x: yes_no_encoding[x])\n",
    "df['Wi-Fi'] = df['Wi-Fi'].map(lambda x: yes_no_encoding[x])\n",
    "df['Bluetooth Support'] = df['Bluetooth Support'].map(lambda x: yes_no_encoding[x])\n",
    "df['Full HD Recording'] = df['Full HD Recording'].map(lambda x: yes_no_encoding[x])"
   ]
  },
  {
   "cell_type": "code",
   "execution_count": 970,
   "id": "ca591dba",
   "metadata": {},
   "outputs": [
    {
     "data": {
      "text/html": [
       "<div>\n",
       "<style scoped>\n",
       "    .dataframe tbody tr th:only-of-type {\n",
       "        vertical-align: middle;\n",
       "    }\n",
       "\n",
       "    .dataframe tbody tr th {\n",
       "        vertical-align: top;\n",
       "    }\n",
       "\n",
       "    .dataframe thead th {\n",
       "        text-align: right;\n",
       "    }\n",
       "</style>\n",
       "<table border=\"1\" class=\"dataframe\">\n",
       "  <thead>\n",
       "    <tr style=\"text-align: right;\">\n",
       "      <th></th>\n",
       "      <th>Price</th>\n",
       "      <th>Model Name</th>\n",
       "      <th>SIM Type</th>\n",
       "      <th>Touchscreen</th>\n",
       "      <th>Display Size</th>\n",
       "      <th>Resolution</th>\n",
       "      <th>Operating System</th>\n",
       "      <th>Processor Core</th>\n",
       "      <th>Primary Clock Speed</th>\n",
       "      <th>Internal Storage</th>\n",
       "      <th>...</th>\n",
       "      <th>Audio Jack</th>\n",
       "      <th>GPS Support</th>\n",
       "      <th>Battery Capacity</th>\n",
       "      <th>Weight</th>\n",
       "      <th>Domestic Warranty</th>\n",
       "      <th>Product Rating</th>\n",
       "      <th>Camera Rating</th>\n",
       "      <th>Battery Rating</th>\n",
       "      <th>Display Rating</th>\n",
       "      <th>Design Rating</th>\n",
       "    </tr>\n",
       "  </thead>\n",
       "  <tbody>\n",
       "    <tr>\n",
       "      <th>0</th>\n",
       "      <td>9799.0</td>\n",
       "      <td>Galaxy F13</td>\n",
       "      <td>Dual Sim</td>\n",
       "      <td>1</td>\n",
       "      <td>16.76</td>\n",
       "      <td>2408 x 1080 Pixels</td>\n",
       "      <td>Android 12</td>\n",
       "      <td>Octa Core</td>\n",
       "      <td>2000.0</td>\n",
       "      <td>65536.0</td>\n",
       "      <td>...</td>\n",
       "      <td>3.5</td>\n",
       "      <td>1</td>\n",
       "      <td>6000.0</td>\n",
       "      <td>207.0</td>\n",
       "      <td>1.0</td>\n",
       "      <td>4.4</td>\n",
       "      <td>3.7</td>\n",
       "      <td>4.2</td>\n",
       "      <td>4.0</td>\n",
       "      <td>4.0</td>\n",
       "    </tr>\n",
       "    <tr>\n",
       "      <th>1</th>\n",
       "      <td>9799.0</td>\n",
       "      <td>Galaxy F13</td>\n",
       "      <td>Dual Sim</td>\n",
       "      <td>1</td>\n",
       "      <td>16.76</td>\n",
       "      <td>2408 x 1080 Pixels</td>\n",
       "      <td>Android 12</td>\n",
       "      <td>Octa Core</td>\n",
       "      <td>2000.0</td>\n",
       "      <td>65536.0</td>\n",
       "      <td>...</td>\n",
       "      <td>3.5</td>\n",
       "      <td>1</td>\n",
       "      <td>6000.0</td>\n",
       "      <td>207.0</td>\n",
       "      <td>1.0</td>\n",
       "      <td>4.4</td>\n",
       "      <td>3.7</td>\n",
       "      <td>4.2</td>\n",
       "      <td>4.0</td>\n",
       "      <td>4.0</td>\n",
       "    </tr>\n",
       "    <tr>\n",
       "      <th>2</th>\n",
       "      <td>9799.0</td>\n",
       "      <td>Galaxy F13</td>\n",
       "      <td>Dual Sim</td>\n",
       "      <td>1</td>\n",
       "      <td>16.76</td>\n",
       "      <td>2408 x 1080 Pixels</td>\n",
       "      <td>Android 12</td>\n",
       "      <td>Octa Core</td>\n",
       "      <td>2000.0</td>\n",
       "      <td>65536.0</td>\n",
       "      <td>...</td>\n",
       "      <td>3.5</td>\n",
       "      <td>1</td>\n",
       "      <td>6000.0</td>\n",
       "      <td>207.0</td>\n",
       "      <td>1.0</td>\n",
       "      <td>4.4</td>\n",
       "      <td>3.7</td>\n",
       "      <td>4.2</td>\n",
       "      <td>4.0</td>\n",
       "      <td>4.0</td>\n",
       "    </tr>\n",
       "    <tr>\n",
       "      <th>3</th>\n",
       "      <td>9999.0</td>\n",
       "      <td>10</td>\n",
       "      <td>Dual Sim</td>\n",
       "      <td>1</td>\n",
       "      <td>17.02</td>\n",
       "      <td>1650 x 720 Pixels</td>\n",
       "      <td>Android 11</td>\n",
       "      <td>Octa Core</td>\n",
       "      <td>2400.0</td>\n",
       "      <td>65536.0</td>\n",
       "      <td>...</td>\n",
       "      <td>3.5</td>\n",
       "      <td>1</td>\n",
       "      <td>6000.0</td>\n",
       "      <td>203.0</td>\n",
       "      <td>1.0</td>\n",
       "      <td>4.3</td>\n",
       "      <td>3.6</td>\n",
       "      <td>4.1</td>\n",
       "      <td>3.9</td>\n",
       "      <td>3.9</td>\n",
       "    </tr>\n",
       "    <tr>\n",
       "      <th>4</th>\n",
       "      <td>58999.0</td>\n",
       "      <td>iPhone 13</td>\n",
       "      <td>Dual Sim</td>\n",
       "      <td>1</td>\n",
       "      <td>15.49</td>\n",
       "      <td>2532 x 1170 Pixels</td>\n",
       "      <td>iOS 15</td>\n",
       "      <td>Hexa Core</td>\n",
       "      <td>2400.0</td>\n",
       "      <td>131072.0</td>\n",
       "      <td>...</td>\n",
       "      <td>3.5</td>\n",
       "      <td>1</td>\n",
       "      <td>6000.0</td>\n",
       "      <td>203.0</td>\n",
       "      <td>1.0</td>\n",
       "      <td>4.7</td>\n",
       "      <td>4.6</td>\n",
       "      <td>4.4</td>\n",
       "      <td>4.7</td>\n",
       "      <td>4.6</td>\n",
       "    </tr>\n",
       "  </tbody>\n",
       "</table>\n",
       "<p>5 rows × 29 columns</p>\n",
       "</div>"
      ],
      "text/plain": [
       "     Price  Model Name  SIM Type  Touchscreen  Display Size  \\\n",
       "0   9799.0  Galaxy F13  Dual Sim            1         16.76   \n",
       "1   9799.0  Galaxy F13  Dual Sim            1         16.76   \n",
       "2   9799.0  Galaxy F13  Dual Sim            1         16.76   \n",
       "3   9999.0          10  Dual Sim            1         17.02   \n",
       "4  58999.0   iPhone 13  Dual Sim            1         15.49   \n",
       "\n",
       "           Resolution Operating System Processor Core  Primary Clock Speed  \\\n",
       "0  2408 x 1080 Pixels       Android 12      Octa Core               2000.0   \n",
       "1  2408 x 1080 Pixels       Android 12      Octa Core               2000.0   \n",
       "2  2408 x 1080 Pixels       Android 12      Octa Core               2000.0   \n",
       "3   1650 x 720 Pixels       Android 11      Octa Core               2400.0   \n",
       "4  2532 x 1170 Pixels           iOS 15      Hexa Core               2400.0   \n",
       "\n",
       "   Internal Storage  ...  Audio Jack  GPS Support Battery Capacity  Weight  \\\n",
       "0           65536.0  ...         3.5            1           6000.0   207.0   \n",
       "1           65536.0  ...         3.5            1           6000.0   207.0   \n",
       "2           65536.0  ...         3.5            1           6000.0   207.0   \n",
       "3           65536.0  ...         3.5            1           6000.0   203.0   \n",
       "4          131072.0  ...         3.5            1           6000.0   203.0   \n",
       "\n",
       "   Domestic Warranty  Product Rating Camera Rating  Battery Rating  \\\n",
       "0                1.0             4.4           3.7             4.2   \n",
       "1                1.0             4.4           3.7             4.2   \n",
       "2                1.0             4.4           3.7             4.2   \n",
       "3                1.0             4.3           3.6             4.1   \n",
       "4                1.0             4.7           4.6             4.4   \n",
       "\n",
       "   Display Rating  Design Rating  \n",
       "0             4.0            4.0  \n",
       "1             4.0            4.0  \n",
       "2             4.0            4.0  \n",
       "3             3.9            3.9  \n",
       "4             4.7            4.6  \n",
       "\n",
       "[5 rows x 29 columns]"
      ]
     },
     "execution_count": 970,
     "metadata": {},
     "output_type": "execute_result"
    }
   ],
   "source": [
    "df.head()"
   ]
  },
  {
   "cell_type": "code",
   "execution_count": 971,
   "id": "0ed64441",
   "metadata": {},
   "outputs": [
    {
     "data": {
      "text/plain": [
       "Index(['Price', 'Model Name', 'SIM Type', 'Touchscreen', 'Display Size',\n",
       "       'Resolution', 'Operating System', 'Processor Core',\n",
       "       'Primary Clock Speed', 'Internal Storage', 'RAM',\n",
       "       'Primary Camera Available', 'Primary Camera',\n",
       "       'Secondary Camera Available', 'Secondary Camera', 'Full HD Recording',\n",
       "       'Network Type', 'Bluetooth Support', 'Wi-Fi', 'Audio Jack',\n",
       "       'GPS Support', 'Battery Capacity', 'Weight', 'Domestic Warranty',\n",
       "       'Product Rating', 'Camera Rating', 'Battery Rating', 'Display Rating',\n",
       "       'Design Rating'],\n",
       "      dtype='object')"
      ]
     },
     "execution_count": 971,
     "metadata": {},
     "output_type": "execute_result"
    }
   ],
   "source": [
    "df.columns"
   ]
  },
  {
   "cell_type": "code",
   "execution_count": 972,
   "id": "a8ada084",
   "metadata": {},
   "outputs": [
    {
     "data": {
      "text/plain": [
       "array(['4G, 3G, 2G', '4G VOLTE, 4G, 3G, 2G', '5G, 4G, 3G, 2G',\n",
       "       '2G, 3G, 4G', '2G, 3G, 4G, 5G', '2G', '5G, 4G VOLTE, 4G, 3G, 2G',\n",
       "       '2G, 3G, 4G, 4G VOLTE', '4G', '5G', '2G, 3G, 4G, 4G VOLTE, 5G',\n",
       "       '4G VOLTE'], dtype=object)"
      ]
     },
     "execution_count": 972,
     "metadata": {},
     "output_type": "execute_result"
    }
   ],
   "source": [
    "df['Network Type'].unique()"
   ]
  },
  {
   "cell_type": "code",
   "execution_count": 973,
   "id": "7a53720b",
   "metadata": {},
   "outputs": [
    {
     "data": {
      "text/plain": [
       "array(['Dual Sim', 'Single Sim', 'Dual Sim(Nano + eSIM)'], dtype=object)"
      ]
     },
     "execution_count": 973,
     "metadata": {},
     "output_type": "execute_result"
    }
   ],
   "source": [
    "df['SIM Type'].unique()"
   ]
  },
  {
   "cell_type": "code",
   "execution_count": 974,
   "id": "b8a39c5d",
   "metadata": {},
   "outputs": [
    {
     "data": {
      "text/plain": [
       "array(['Android 12', 'Android 11', 'iOS 15', 'iOS 14.2', 'Android 13',\n",
       "       'Symbian', 'Android 12 Go', 'Android 13 (Go Edition)',\n",
       "       'Android 10', '1', 'RTOS', 'Series 30+', '0', 'iOS 16', 'Android'],\n",
       "      dtype=object)"
      ]
     },
     "execution_count": 974,
     "metadata": {},
     "output_type": "execute_result"
    }
   ],
   "source": [
    "df['Operating System'].unique()"
   ]
  },
  {
   "cell_type": "code",
   "execution_count": 975,
   "id": "2311d37d",
   "metadata": {},
   "outputs": [],
   "source": [
    "dummy_variables = pd.get_dummies(df['SIM Type'], prefix='SIM_Type: ')\n",
    "df = pd.concat([df, dummy_variables], axis=1)\n",
    "df.drop('SIM Type',axis=1,inplace=True)\n",
    "df.drop('SIM_Type: _Dual Sim',axis=1,inplace=True)\n",
    "\n",
    "dummy_variables = pd.get_dummies(df['Network Type'], prefix='Network_Type: ')\n",
    "df = pd.concat([df, dummy_variables], axis=1)\n",
    "df.drop('Network Type',axis=1,inplace=True)\n",
    "df.drop('Network_Type: _4G, 3G, 2G',axis=1,inplace=True)\n",
    "\n",
    "dummy_variables = pd.get_dummies(df['Operating System'], prefix='Operating_System: ')\n",
    "df = pd.concat([df, dummy_variables], axis=1)\n",
    "df.drop('Operating System',axis=1,inplace=True)\n",
    "df.drop('Operating_System: _Android 12',axis=1,inplace=True)\n",
    "\n",
    "dummy_variables = pd.get_dummies(df['Primary Camera'], prefix='Primary_Camera: ')\n",
    "df = pd.concat([df, dummy_variables], axis=1)\n",
    "df.drop('Primary Camera',axis=1,inplace=True)\n",
    "df.drop('Primary_Camera: _50MP + 5MP + 2MP',axis=1,inplace=True)\n",
    "\n",
    "dummy_variables = pd.get_dummies(df['Processor Core'], prefix='Processor_Core: ')\n",
    "df = pd.concat([df, dummy_variables], axis=1)\n",
    "df.drop('Processor Core',axis=1,inplace=True)\n",
    "df.drop('Processor_Core: _Octa Core',axis=1,inplace=True)\n",
    "\n",
    "df[['resolution_width', 'resolution_height']] = df['Resolution'].str.split(' x ', expand=True)\n",
    "resolution_values = df['Resolution'].str.extract(r'(\\d+)\\D+(\\d+)', expand=True)\n",
    "df['resolution_width'] = resolution_values[0].astype(float)\n",
    "df['resolution_height'] = resolution_values[1].astype(float)\n",
    "df = df.drop('Resolution',axis = 1)"
   ]
  },
  {
   "cell_type": "code",
   "execution_count": 976,
   "id": "e2287c7e",
   "metadata": {},
   "outputs": [],
   "source": [
    "x = df.drop(['Price','Model Name'],axis=1)\n",
    "y = df['Price']"
   ]
  },
  {
   "cell_type": "code",
   "execution_count": 977,
   "id": "3d85047f",
   "metadata": {},
   "outputs": [],
   "source": [
    "random_forest = RandomForestRegressor()\n",
    "linear = LinearRegression()"
   ]
  },
  {
   "cell_type": "code",
   "execution_count": 978,
   "id": "78f8807f",
   "metadata": {},
   "outputs": [],
   "source": [
    "x_train,x_test,y_train,y_test = train_test_split(x,y,test_size=0.2)"
   ]
  },
  {
   "cell_type": "code",
   "execution_count": 979,
   "id": "3148e11e",
   "metadata": {},
   "outputs": [
    {
     "data": {
      "text/html": [
       "<style>#sk-container-id-6 {color: black;background-color: white;}#sk-container-id-6 pre{padding: 0;}#sk-container-id-6 div.sk-toggleable {background-color: white;}#sk-container-id-6 label.sk-toggleable__label {cursor: pointer;display: block;width: 100%;margin-bottom: 0;padding: 0.3em;box-sizing: border-box;text-align: center;}#sk-container-id-6 label.sk-toggleable__label-arrow:before {content: \"▸\";float: left;margin-right: 0.25em;color: #696969;}#sk-container-id-6 label.sk-toggleable__label-arrow:hover:before {color: black;}#sk-container-id-6 div.sk-estimator:hover label.sk-toggleable__label-arrow:before {color: black;}#sk-container-id-6 div.sk-toggleable__content {max-height: 0;max-width: 0;overflow: hidden;text-align: left;background-color: #f0f8ff;}#sk-container-id-6 div.sk-toggleable__content pre {margin: 0.2em;color: black;border-radius: 0.25em;background-color: #f0f8ff;}#sk-container-id-6 input.sk-toggleable__control:checked~div.sk-toggleable__content {max-height: 200px;max-width: 100%;overflow: auto;}#sk-container-id-6 input.sk-toggleable__control:checked~label.sk-toggleable__label-arrow:before {content: \"▾\";}#sk-container-id-6 div.sk-estimator input.sk-toggleable__control:checked~label.sk-toggleable__label {background-color: #d4ebff;}#sk-container-id-6 div.sk-label input.sk-toggleable__control:checked~label.sk-toggleable__label {background-color: #d4ebff;}#sk-container-id-6 input.sk-hidden--visually {border: 0;clip: rect(1px 1px 1px 1px);clip: rect(1px, 1px, 1px, 1px);height: 1px;margin: -1px;overflow: hidden;padding: 0;position: absolute;width: 1px;}#sk-container-id-6 div.sk-estimator {font-family: monospace;background-color: #f0f8ff;border: 1px dotted black;border-radius: 0.25em;box-sizing: border-box;margin-bottom: 0.5em;}#sk-container-id-6 div.sk-estimator:hover {background-color: #d4ebff;}#sk-container-id-6 div.sk-parallel-item::after {content: \"\";width: 100%;border-bottom: 1px solid gray;flex-grow: 1;}#sk-container-id-6 div.sk-label:hover label.sk-toggleable__label {background-color: #d4ebff;}#sk-container-id-6 div.sk-serial::before {content: \"\";position: absolute;border-left: 1px solid gray;box-sizing: border-box;top: 0;bottom: 0;left: 50%;z-index: 0;}#sk-container-id-6 div.sk-serial {display: flex;flex-direction: column;align-items: center;background-color: white;padding-right: 0.2em;padding-left: 0.2em;position: relative;}#sk-container-id-6 div.sk-item {position: relative;z-index: 1;}#sk-container-id-6 div.sk-parallel {display: flex;align-items: stretch;justify-content: center;background-color: white;position: relative;}#sk-container-id-6 div.sk-item::before, #sk-container-id-6 div.sk-parallel-item::before {content: \"\";position: absolute;border-left: 1px solid gray;box-sizing: border-box;top: 0;bottom: 0;left: 50%;z-index: -1;}#sk-container-id-6 div.sk-parallel-item {display: flex;flex-direction: column;z-index: 1;position: relative;background-color: white;}#sk-container-id-6 div.sk-parallel-item:first-child::after {align-self: flex-end;width: 50%;}#sk-container-id-6 div.sk-parallel-item:last-child::after {align-self: flex-start;width: 50%;}#sk-container-id-6 div.sk-parallel-item:only-child::after {width: 0;}#sk-container-id-6 div.sk-dashed-wrapped {border: 1px dashed gray;margin: 0 0.4em 0.5em 0.4em;box-sizing: border-box;padding-bottom: 0.4em;background-color: white;}#sk-container-id-6 div.sk-label label {font-family: monospace;font-weight: bold;display: inline-block;line-height: 1.2em;}#sk-container-id-6 div.sk-label-container {text-align: center;}#sk-container-id-6 div.sk-container {/* jupyter's `normalize.less` sets `[hidden] { display: none; }` but bootstrap.min.css set `[hidden] { display: none !important; }` so we also need the `!important` here to be able to override the default hidden behavior on the sphinx rendered scikit-learn.org. See: https://github.com/scikit-learn/scikit-learn/issues/21755 */display: inline-block !important;position: relative;}#sk-container-id-6 div.sk-text-repr-fallback {display: none;}</style><div id=\"sk-container-id-6\" class=\"sk-top-container\"><div class=\"sk-text-repr-fallback\"><pre>LinearRegression()</pre><b>In a Jupyter environment, please rerun this cell to show the HTML representation or trust the notebook. <br />On GitHub, the HTML representation is unable to render, please try loading this page with nbviewer.org.</b></div><div class=\"sk-container\" hidden><div class=\"sk-item\"><div class=\"sk-estimator sk-toggleable\"><input class=\"sk-toggleable__control sk-hidden--visually\" id=\"sk-estimator-id-6\" type=\"checkbox\" checked><label for=\"sk-estimator-id-6\" class=\"sk-toggleable__label sk-toggleable__label-arrow\">LinearRegression</label><div class=\"sk-toggleable__content\"><pre>LinearRegression()</pre></div></div></div></div></div>"
      ],
      "text/plain": [
       "LinearRegression()"
      ]
     },
     "execution_count": 979,
     "metadata": {},
     "output_type": "execute_result"
    }
   ],
   "source": [
    "random_forest.fit(x_train,y_train)\n",
    "linear.fit(x_train,y_train)"
   ]
  },
  {
   "cell_type": "code",
   "execution_count": 980,
   "id": "ff2ea0ab",
   "metadata": {},
   "outputs": [
    {
     "data": {
      "text/plain": [
       "0.9651012335408999"
      ]
     },
     "execution_count": 980,
     "metadata": {},
     "output_type": "execute_result"
    }
   ],
   "source": [
    "random_forest.score(x_test,y_test)"
   ]
  },
  {
   "cell_type": "code",
   "execution_count": null,
   "id": "9a48dc47",
   "metadata": {},
   "outputs": [],
   "source": []
  }
 ],
 "metadata": {
  "kernelspec": {
   "display_name": "Python 3 (ipykernel)",
   "language": "python",
   "name": "python3"
  },
  "language_info": {
   "codemirror_mode": {
    "name": "ipython",
    "version": 3
   },
   "file_extension": ".py",
   "mimetype": "text/x-python",
   "name": "python",
   "nbconvert_exporter": "python",
   "pygments_lexer": "ipython3",
   "version": "3.10.9"
  }
 },
 "nbformat": 4,
 "nbformat_minor": 5
}
